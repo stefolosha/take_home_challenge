{
 "cells": [
  {
   "cell_type": "code",
   "execution_count": 165,
   "id": "bea274b2",
   "metadata": {},
   "outputs": [],
   "source": [
    "import pandas as pd\n",
    "import datetime as dt\n",
    "import numpy as np\n",
    "import matplotlib.pyplot as plt"
   ]
  },
  {
   "cell_type": "code",
   "execution_count": 109,
   "id": "c9ccd6d9",
   "metadata": {},
   "outputs": [],
   "source": [
    "users = pd.read_csv(r'takehome_users.csv')\n",
    "user_engagement = pd.read_csv(r'takehome_user_engagement.csv')"
   ]
  },
  {
   "cell_type": "code",
   "execution_count": 110,
   "id": "4ddbf0ce",
   "metadata": {},
   "outputs": [
    {
     "data": {
      "text/html": [
       "<div>\n",
       "<style scoped>\n",
       "    .dataframe tbody tr th:only-of-type {\n",
       "        vertical-align: middle;\n",
       "    }\n",
       "\n",
       "    .dataframe tbody tr th {\n",
       "        vertical-align: top;\n",
       "    }\n",
       "\n",
       "    .dataframe thead th {\n",
       "        text-align: right;\n",
       "    }\n",
       "</style>\n",
       "<table border=\"1\" class=\"dataframe\">\n",
       "  <thead>\n",
       "    <tr style=\"text-align: right;\">\n",
       "      <th></th>\n",
       "      <th>object_id</th>\n",
       "      <th>creation_time</th>\n",
       "      <th>name</th>\n",
       "      <th>email</th>\n",
       "      <th>creation_source</th>\n",
       "      <th>last_session_creation_time</th>\n",
       "      <th>opted_in_to_mailing_list</th>\n",
       "      <th>enabled_for_marketing_drip</th>\n",
       "      <th>org_id</th>\n",
       "      <th>invited_by_user_id</th>\n",
       "    </tr>\n",
       "  </thead>\n",
       "  <tbody>\n",
       "    <tr>\n",
       "      <th>0</th>\n",
       "      <td>1</td>\n",
       "      <td>2014-04-22 03:53:30</td>\n",
       "      <td>Clausen August</td>\n",
       "      <td>AugustCClausen@yahoo.com</td>\n",
       "      <td>GUEST_INVITE</td>\n",
       "      <td>1.398139e+09</td>\n",
       "      <td>1</td>\n",
       "      <td>0</td>\n",
       "      <td>11</td>\n",
       "      <td>10803.0</td>\n",
       "    </tr>\n",
       "    <tr>\n",
       "      <th>1</th>\n",
       "      <td>2</td>\n",
       "      <td>2013-11-15 03:45:04</td>\n",
       "      <td>Poole Matthew</td>\n",
       "      <td>MatthewPoole@gustr.com</td>\n",
       "      <td>ORG_INVITE</td>\n",
       "      <td>1.396238e+09</td>\n",
       "      <td>0</td>\n",
       "      <td>0</td>\n",
       "      <td>1</td>\n",
       "      <td>316.0</td>\n",
       "    </tr>\n",
       "    <tr>\n",
       "      <th>2</th>\n",
       "      <td>3</td>\n",
       "      <td>2013-03-19 23:14:52</td>\n",
       "      <td>Bottrill Mitchell</td>\n",
       "      <td>MitchellBottrill@gustr.com</td>\n",
       "      <td>ORG_INVITE</td>\n",
       "      <td>1.363735e+09</td>\n",
       "      <td>0</td>\n",
       "      <td>0</td>\n",
       "      <td>94</td>\n",
       "      <td>1525.0</td>\n",
       "    </tr>\n",
       "    <tr>\n",
       "      <th>3</th>\n",
       "      <td>4</td>\n",
       "      <td>2013-05-21 08:09:28</td>\n",
       "      <td>Clausen Nicklas</td>\n",
       "      <td>NicklasSClausen@yahoo.com</td>\n",
       "      <td>GUEST_INVITE</td>\n",
       "      <td>1.369210e+09</td>\n",
       "      <td>0</td>\n",
       "      <td>0</td>\n",
       "      <td>1</td>\n",
       "      <td>5151.0</td>\n",
       "    </tr>\n",
       "    <tr>\n",
       "      <th>4</th>\n",
       "      <td>5</td>\n",
       "      <td>2013-01-17 10:14:20</td>\n",
       "      <td>Raw Grace</td>\n",
       "      <td>GraceRaw@yahoo.com</td>\n",
       "      <td>GUEST_INVITE</td>\n",
       "      <td>1.358850e+09</td>\n",
       "      <td>0</td>\n",
       "      <td>0</td>\n",
       "      <td>193</td>\n",
       "      <td>5240.0</td>\n",
       "    </tr>\n",
       "  </tbody>\n",
       "</table>\n",
       "</div>"
      ],
      "text/plain": [
       "   object_id        creation_time               name  \\\n",
       "0          1  2014-04-22 03:53:30     Clausen August   \n",
       "1          2  2013-11-15 03:45:04      Poole Matthew   \n",
       "2          3  2013-03-19 23:14:52  Bottrill Mitchell   \n",
       "3          4  2013-05-21 08:09:28    Clausen Nicklas   \n",
       "4          5  2013-01-17 10:14:20          Raw Grace   \n",
       "\n",
       "                        email creation_source  last_session_creation_time  \\\n",
       "0    AugustCClausen@yahoo.com    GUEST_INVITE                1.398139e+09   \n",
       "1      MatthewPoole@gustr.com      ORG_INVITE                1.396238e+09   \n",
       "2  MitchellBottrill@gustr.com      ORG_INVITE                1.363735e+09   \n",
       "3   NicklasSClausen@yahoo.com    GUEST_INVITE                1.369210e+09   \n",
       "4          GraceRaw@yahoo.com    GUEST_INVITE                1.358850e+09   \n",
       "\n",
       "   opted_in_to_mailing_list  enabled_for_marketing_drip  org_id  \\\n",
       "0                         1                           0      11   \n",
       "1                         0                           0       1   \n",
       "2                         0                           0      94   \n",
       "3                         0                           0       1   \n",
       "4                         0                           0     193   \n",
       "\n",
       "   invited_by_user_id  \n",
       "0             10803.0  \n",
       "1               316.0  \n",
       "2              1525.0  \n",
       "3              5151.0  \n",
       "4              5240.0  "
      ]
     },
     "execution_count": 110,
     "metadata": {},
     "output_type": "execute_result"
    }
   ],
   "source": [
    "users.head()"
   ]
  },
  {
   "cell_type": "code",
   "execution_count": 111,
   "id": "961e5356",
   "metadata": {},
   "outputs": [
    {
     "data": {
      "text/html": [
       "<div>\n",
       "<style scoped>\n",
       "    .dataframe tbody tr th:only-of-type {\n",
       "        vertical-align: middle;\n",
       "    }\n",
       "\n",
       "    .dataframe tbody tr th {\n",
       "        vertical-align: top;\n",
       "    }\n",
       "\n",
       "    .dataframe thead th {\n",
       "        text-align: right;\n",
       "    }\n",
       "</style>\n",
       "<table border=\"1\" class=\"dataframe\">\n",
       "  <thead>\n",
       "    <tr style=\"text-align: right;\">\n",
       "      <th></th>\n",
       "      <th>time_stamp</th>\n",
       "      <th>user_id</th>\n",
       "      <th>visited</th>\n",
       "    </tr>\n",
       "  </thead>\n",
       "  <tbody>\n",
       "    <tr>\n",
       "      <th>0</th>\n",
       "      <td>2014-04-22 03:53:30</td>\n",
       "      <td>1</td>\n",
       "      <td>1</td>\n",
       "    </tr>\n",
       "    <tr>\n",
       "      <th>1</th>\n",
       "      <td>2013-11-15 03:45:04</td>\n",
       "      <td>2</td>\n",
       "      <td>1</td>\n",
       "    </tr>\n",
       "    <tr>\n",
       "      <th>2</th>\n",
       "      <td>2013-11-29 03:45:04</td>\n",
       "      <td>2</td>\n",
       "      <td>1</td>\n",
       "    </tr>\n",
       "    <tr>\n",
       "      <th>3</th>\n",
       "      <td>2013-12-09 03:45:04</td>\n",
       "      <td>2</td>\n",
       "      <td>1</td>\n",
       "    </tr>\n",
       "    <tr>\n",
       "      <th>4</th>\n",
       "      <td>2013-12-25 03:45:04</td>\n",
       "      <td>2</td>\n",
       "      <td>1</td>\n",
       "    </tr>\n",
       "  </tbody>\n",
       "</table>\n",
       "</div>"
      ],
      "text/plain": [
       "            time_stamp  user_id  visited\n",
       "0  2014-04-22 03:53:30        1        1\n",
       "1  2013-11-15 03:45:04        2        1\n",
       "2  2013-11-29 03:45:04        2        1\n",
       "3  2013-12-09 03:45:04        2        1\n",
       "4  2013-12-25 03:45:04        2        1"
      ]
     },
     "execution_count": 111,
     "metadata": {},
     "output_type": "execute_result"
    }
   ],
   "source": [
    "user_engagement.head()"
   ]
  },
  {
   "cell_type": "code",
   "execution_count": 112,
   "id": "247edaeb",
   "metadata": {},
   "outputs": [],
   "source": [
    "df = user_engagement.copy()\n",
    "df2 = users.copy()\n"
   ]
  },
  {
   "cell_type": "code",
   "execution_count": 113,
   "id": "cda5d14a",
   "metadata": {},
   "outputs": [
    {
     "name": "stdout",
     "output_type": "stream",
     "text": [
      "(12000, 10) (207917, 3)\n"
     ]
    }
   ],
   "source": [
    "print(df2.shape, df.shape)"
   ]
  },
  {
   "cell_type": "code",
   "execution_count": 114,
   "id": "c0db8b0c",
   "metadata": {
    "scrolled": true
   },
   "outputs": [],
   "source": [
    "df['time_stamp'] = df['time_stamp'].astype('datetime64[ns]')"
   ]
  },
  {
   "cell_type": "code",
   "execution_count": 115,
   "id": "0ddcea31",
   "metadata": {},
   "outputs": [],
   "source": [
    "df['time_stamp'] = df['time_stamp'].dt.floor('d').astype(np.int64)#this converts the date to the beginning of the day"
   ]
  },
  {
   "cell_type": "code",
   "execution_count": 116,
   "id": "693c50a1",
   "metadata": {},
   "outputs": [],
   "source": [
    "df = df.sort_values(['user_id', 'time_stamp']).drop_duplicates() #drops duplicate dates since we are looking for 3 distinct dates"
   ]
  },
  {
   "cell_type": "code",
   "execution_count": 117,
   "id": "586326e1",
   "metadata": {},
   "outputs": [],
   "source": [
    "a = df.groupby('user_id')['time_stamp'].rolling(window=3) #groups by user, then takes 3 instances at a time"
   ]
  },
  {
   "cell_type": "code",
   "execution_count": 118,
   "id": "586a587f",
   "metadata": {},
   "outputs": [],
   "source": [
    "b = pd.to_timedelta((a.max()- a.min())).dt.days #takes the oldest and newest day of the 3 days and subtracts the count. count must be less than 3"
   ]
  },
  {
   "cell_type": "code",
   "execution_count": 119,
   "id": "3c5e9e40",
   "metadata": {},
   "outputs": [],
   "source": [
    "c = b[b <= 7] #keeps the values where the difference is less than 7\n"
   ]
  },
  {
   "cell_type": "code",
   "execution_count": 120,
   "id": "54b5e676",
   "metadata": {},
   "outputs": [
    {
     "name": "stdout",
     "output_type": "stream",
     "text": [
      "user_id        \n",
      "2        9         6.0\n",
      "         10        5.0\n",
      "         11        7.0\n",
      "10       24        7.0\n",
      "         27        5.0\n",
      "                  ... \n",
      "11988    207898    3.0\n",
      "         207899    3.0\n",
      "         207900    3.0\n",
      "         207901    3.0\n",
      "         207902    6.0\n",
      "Name: time_stamp, Length: 167199, dtype: float64\n"
     ]
    }
   ],
   "source": [
    "print(c)"
   ]
  },
  {
   "cell_type": "code",
   "execution_count": 121,
   "id": "a3c179df",
   "metadata": {},
   "outputs": [],
   "source": [
    "e,f = map(list,zip(*c.index)) #E is the first index user_id"
   ]
  },
  {
   "cell_type": "code",
   "execution_count": 122,
   "id": "1e31f4c1",
   "metadata": {},
   "outputs": [
    {
     "data": {
      "text/plain": [
       "1656"
      ]
     },
     "execution_count": 122,
     "metadata": {},
     "output_type": "execute_result"
    }
   ],
   "source": [
    "g = set(e)\n",
    "g= list(g)\n",
    "len(g)"
   ]
  },
  {
   "cell_type": "code",
   "execution_count": 123,
   "id": "a6821213",
   "metadata": {},
   "outputs": [],
   "source": [
    "df['return'] =  df.index.isin(e)"
   ]
  },
  {
   "cell_type": "code",
   "execution_count": 124,
   "id": "0a5908e7",
   "metadata": {},
   "outputs": [],
   "source": [
    "df2.rename(columns = {'object_id':'user_id'}, inplace=True)"
   ]
  },
  {
   "cell_type": "code",
   "execution_count": 125,
   "id": "72c94731",
   "metadata": {},
   "outputs": [],
   "source": [
    "nlist = []\n",
    "\n",
    "for x in df2['user_id']:\n",
    "    if x in g:\n",
    "        nlist.append(1)\n",
    "    else:\n",
    "        nlist.append(0)\n",
    "df2['return'] = nlist\n",
    "df2.rename(columns= {'return':'adopted_user'}, inplace=True)"
   ]
  },
  {
   "cell_type": "code",
   "execution_count": 126,
   "id": "21ab8948",
   "metadata": {},
   "outputs": [],
   "source": [
    "dfo = df2[['creation_source']]\n",
    "df5 = pd.concat([df2.drop(dfo, axis=1), pd.get_dummies(dfo)],axis=1) #dummy variables"
   ]
  },
  {
   "cell_type": "code",
   "execution_count": 127,
   "id": "95d183ad",
   "metadata": {},
   "outputs": [],
   "source": [
    "df5['invited_by_user_id'].fillna(0, inplace=True)"
   ]
  },
  {
   "cell_type": "code",
   "execution_count": 128,
   "id": "14fb71c5",
   "metadata": {},
   "outputs": [],
   "source": [
    "df5['invited'] = df5['invited_by_user_id'] > 0"
   ]
  },
  {
   "cell_type": "code",
   "execution_count": 129,
   "id": "32c8e271",
   "metadata": {},
   "outputs": [],
   "source": [
    "df5['invited'] = df5['invited']*1"
   ]
  },
  {
   "cell_type": "code",
   "execution_count": 130,
   "id": "69f62241",
   "metadata": {},
   "outputs": [],
   "source": [
    "df5.drop(df5.invited_by_user_id,inplace=True)"
   ]
  },
  {
   "cell_type": "code",
   "execution_count": 131,
   "id": "4eea4366",
   "metadata": {},
   "outputs": [],
   "source": [
    "df5.fillna(0, inplace=True)"
   ]
  },
  {
   "cell_type": "code",
   "execution_count": 137,
   "id": "1e5bca04",
   "metadata": {
    "scrolled": true
   },
   "outputs": [],
   "source": [
    "df5['last_session_creation_time'] = pd.to_datetime(df5['last_session_creation_time'])"
   ]
  },
  {
   "cell_type": "code",
   "execution_count": 147,
   "id": "a2b8f191",
   "metadata": {},
   "outputs": [],
   "source": [
    "\n",
    "X = df5.drop(columns=['last_session_creation_time','user_id','creation_time','name','email','org_id','invited_by_user_id','adopted_user']) #I could make a boolean for invited by adopted user\n",
    "y = df5['adopted_user']"
   ]
  },
  {
   "cell_type": "code",
   "execution_count": 148,
   "id": "88691099",
   "metadata": {},
   "outputs": [],
   "source": [
    "from sklearn.model_selection import train_test_split\n",
    "X_train, X_test, y_train, y_test = train_test_split(X, y, test_size=0.3, random_state=42)"
   ]
  },
  {
   "cell_type": "code",
   "execution_count": 149,
   "id": "131b279e",
   "metadata": {},
   "outputs": [],
   "source": [
    "from sklearn.linear_model import LogisticRegression\n",
    "Logreg = LogisticRegression(penalty = 'l2', C = .1,random_state = 40)\n",
    "Logreg.fit(X_train,y_train)\n",
    "y_pred_lr = Logreg.predict(X_test)"
   ]
  },
  {
   "cell_type": "code",
   "execution_count": 150,
   "id": "45491aa9",
   "metadata": {},
   "outputs": [
    {
     "name": "stdout",
     "output_type": "stream",
     "text": [
      "[[2447    0]\n",
      " [ 384    0]]\n",
      "0.8643588837866478\n"
     ]
    }
   ],
   "source": [
    "from sklearn.metrics import confusion_matrix\n",
    "cnf_matrix= confusion_matrix(y_test,y_pred_lr)\n",
    "print(cnf_matrix)\n",
    "Accuracy_lr=Logreg.score(X_test,y_test)\n",
    "\n",
    "print(Accuracy_lr)"
   ]
  },
  {
   "cell_type": "code",
   "execution_count": 155,
   "id": "260c5eaf",
   "metadata": {},
   "outputs": [
    {
     "name": "stdout",
     "output_type": "stream",
     "text": [
      "[0.57979062 0.51516479 0.52386264 0.57753698 0.56979055]\n",
      "Mean cross validation test score: 0.5532291165043401\n",
      "Mean cross validation train score: 0.5700479618230239\n",
      "Standard deviation in cv scores: 0.02786377301184976\n"
     ]
    }
   ],
   "source": [
    "from sklearn.model_selection import cross_val_score\n",
    "\n",
    "cv_scores_test= cross_val_score(Logreg,X_test,y_test,cv=5,scoring='roc_auc')\n",
    "cv_scores_train= cross_val_score(Logreg,X_train,y_train,cv=5,scoring='roc_auc')\n",
    "print(cv_scores_test)\n",
    "cv_scores_log_test= cv_scores_test.mean()\n",
    "cv_scores_log_train= cv_scores_train.mean()\n",
    "cv_scores_std_log= cv_scores_test.std()\n",
    "print ('Mean cross validation test score: ' +str(cv_scores_log_test))\n",
    "print ('Mean cross validation train score: ' +str(cv_scores_log_train))\n",
    "print ('Standard deviation in cv scores: ' +str(cv_scores_std_log))"
   ]
  },
  {
   "cell_type": "code",
   "execution_count": 152,
   "id": "daff9222",
   "metadata": {},
   "outputs": [
    {
     "name": "stdout",
     "output_type": "stream",
     "text": [
      "precision: 0.0\n",
      "recall: 0.0\n",
      "fscore: 0.0\n",
      "support: None\n"
     ]
    },
    {
     "name": "stderr",
     "output_type": "stream",
     "text": [
      "C:\\Users\\User\\anaconda3\\lib\\site-packages\\sklearn\\metrics\\_classification.py:1245: UndefinedMetricWarning: Precision and F-score are ill-defined and being set to 0.0 due to no predicted samples. Use `zero_division` parameter to control this behavior.\n",
      "  _warn_prf(average, modifier, msg_start, len(result))\n"
     ]
    }
   ],
   "source": [
    "from sklearn.metrics import recall_score, f1_score, precision_score, accuracy_score,  precision_recall_fscore_support\n",
    "precision, recall, fscore, support = precision_recall_fscore_support(y_test, y_pred_lr, average='binary')\n",
    "print('precision:', precision )\n",
    "print('recall:',recall)\n",
    "print('fscore:', fscore)\n",
    "print('support:',support)"
   ]
  },
  {
   "cell_type": "code",
   "execution_count": 158,
   "id": "ed6159c8",
   "metadata": {},
   "outputs": [
    {
     "name": "stdout",
     "output_type": "stream",
     "text": [
      "LogisticRegression(C=0.001, random_state=40)\n",
      "0.859176243892368\n"
     ]
    }
   ],
   "source": [
    "from sklearn.model_selection import GridSearchCV\n",
    "param_grid = {'C': [0.001, 0.01, 0.1, 1, 10, 100, 1000] }\n",
    "logreg = LogisticRegression(penalty = 'l2',random_state = 40)\n",
    "rs3 = GridSearchCV(estimator= logreg,param_grid= param_grid, scoring= 'accuracy', cv=5, n_jobs =-1 )\n",
    "\n",
    "rs3 = rs3.fit(X_train, y_train)\n",
    "print(rs3.best_estimator_)\n",
    "print(rs3.best_score_)"
   ]
  },
  {
   "cell_type": "code",
   "execution_count": 159,
   "id": "f03229f9",
   "metadata": {},
   "outputs": [],
   "source": [
    "from sklearn.linear_model import LogisticRegression\n",
    "Logreg = LogisticRegression(penalty = 'l2', C = .001,random_state = 40)\n",
    "Logreg.fit(X_train,y_train)\n",
    "y_pred_lr = Logreg.predict(X_test)"
   ]
  },
  {
   "cell_type": "code",
   "execution_count": 163,
   "id": "ccc92043",
   "metadata": {},
   "outputs": [
    {
     "name": "stdout",
     "output_type": "stream",
     "text": [
      "0.8643588837866478\n",
      "0.5528213809961123\n"
     ]
    }
   ],
   "source": [
    "logreg = LogisticRegression(penalty = 'l2',random_state = 40, C= 1)\n",
    "logreg.fit(X_train, y_train)\n",
    "y_predictions_log = logreg.predict(X_test)\n",
    "acc = accuracy_score(y_test, y_predictions_log)\n",
    "cv = cross_val_score(logreg, X_test, y_test,scoring='roc_auc').mean()\n",
    "print(acc)\n",
    "print(cv)"
   ]
  },
  {
   "cell_type": "code",
   "execution_count": 166,
   "id": "5bce7874",
   "metadata": {},
   "outputs": [
    {
     "name": "stdout",
     "output_type": "stream",
     "text": [
      "                             Features  Importance scores  Absolute_val\n",
      "4   creation_source_PERSONAL_PROJECTS          -0.608283      0.608283\n",
      "6  creation_source_SIGNUP_GOOGLE_AUTH           0.352918      0.352918\n",
      "2        creation_source_GUEST_INVITE           0.171192      0.171192\n",
      "5              creation_source_SIGNUP           0.153145      0.153145\n",
      "7                             invited           0.102316      0.102316\n",
      "1          enabled_for_marketing_drip           0.096825      0.096825\n",
      "3          creation_source_ORG_INVITE          -0.068876      0.068876\n",
      "0            opted_in_to_mailing_list           0.047425      0.047425\n"
     ]
    },
    {
     "data": {
      "image/png": "[encoded data removed]",
      "text/plain": [
       "<Figure size 720x360 with 1 Axes>"
      ]
     },
     "metadata": {
      "needs_background": "light"
     },
     "output_type": "display_data"
    }
   ],
   "source": [
    "features = X\n",
    "importances = logreg.coef_\n",
    "absolute_importances = abs(logreg.coef_)\n",
    "tab=pd.DataFrame(list(zip(X,importances[0], absolute_importances[0])),columns =['Features', 'Importance scores','Absolute_val']) \n",
    "\n",
    "sorted_features =tab.sort_values(by=['Absolute_val'], ascending=False)\n",
    "print(sorted_features)\n",
    "#Visual comparison:\n",
    "plt.figure(figsize=(10,5))\n",
    "index = list(range(len(sorted_features[:10])))\n",
    "_=plt.barh(index,sorted_features['Importance scores'][:10], align='center',color='b')\n",
    "plt.xlabel('Relative Importance',fontsize=15)\n",
    "plt.ylabel('Features',fontsize=15)\n",
    "plt.yticks(index, sorted_features['Features'][:10])\n",
    "plt.title('Feature Coefficients for Logistic Regression model',fontsize=15)\n",
    "plt.gca().invert_yaxis()\n",
    "plt.savefig(\"29.png\")\n",
    "plt.show()\n",
    "#len(importances)"
   ]
  },
  {
   "cell_type": "code",
   "execution_count": null,
   "id": "408f13c9",
   "metadata": {},
   "outputs": [],
   "source": []
  }
 ],
 "metadata": {
  "kernelspec": {
   "display_name": "Python 3",
   "language": "python",
   "name": "python3"
  },
  "language_info": {
   "codemirror_mode": {
    "name": "ipython",
    "version": 3
   },
   "file_extension": ".py",
   "mimetype": "text/x-python",
   "name": "python",
   "nbconvert_exporter": "python",
   "pygments_lexer": "ipython3",
   "version": "3.8.8"
  }
 },
 "nbformat": 4,
 "nbformat_minor": 5
}
